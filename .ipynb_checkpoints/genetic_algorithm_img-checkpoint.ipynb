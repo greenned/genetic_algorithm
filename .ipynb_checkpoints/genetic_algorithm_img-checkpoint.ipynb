{
 "cells": [
  {
   "cell_type": "code",
   "execution_count": 1,
   "metadata": {},
   "outputs": [],
   "source": [
    "from random import uniform\n",
    "import numpy as np\n",
    "import matplotlib.pyplot as plt\n",
    "import matplotlib.image as mpimg\n",
    "from PIL import Image\n",
    "import random"
   ]
  },
  {
   "cell_type": "markdown",
   "metadata": {},
   "source": [
    "## Configs"
   ]
  },
  {
   "cell_type": "code",
   "execution_count": 2,
   "metadata": {},
   "outputs": [],
   "source": [
    "POPULATION = 100\n",
    "GOOD_PARENTS_CNT = 30\n",
    "LUCKY_PARENTS_CNT = 10\n",
    "CHILDREN_CNT = 5\n",
    "MUTATION_PROB = 10"
   ]
  },
  {
   "cell_type": "markdown",
   "metadata": {},
   "source": [
    "## Load the image and flatten it"
   ]
  },
  {
   "cell_type": "code",
   "execution_count": 4,
   "metadata": {},
   "outputs": [
    {
     "name": "stdout",
     "output_type": "stream",
     "text": [
      "flattend size : (1769472,)\n"
     ]
    }
   ],
   "source": [
    "# Load Image\n",
    "jpg_img_arr = mpimg.imread('Bigger-Splash-1967.jpg')\n",
    "jpg_IMG = Image.open('Bigger-Splash-1967.jpg')\n",
    "FLATTENED = jpg_img_arr.flatten()\n",
    "LEN_FLATTENED = len(FLATTENED)\n",
    "print(\"flattend size :\", FLATTENED.shape)"
   ]
  },
  {
   "cell_type": "markdown",
   "metadata": {},
   "source": [
    "## Initial Population"
   ]
  },
  {
   "cell_type": "code",
   "execution_count": 5,
   "metadata": {},
   "outputs": [
    {
     "name": "stdout",
     "output_type": "stream",
     "text": [
      "(100,)\n"
     ]
    }
   ],
   "source": [
    "# Initial population\n",
    "np.random.seed(0)\n",
    "\n",
    "## POPULATION만큼 초기값 생성\n",
    "initial_population = np.array([np.random.randint(255) for _ in range(POPULATION)])\n",
    "print(initial_population.shape)"
   ]
  },
  {
   "cell_type": "code",
   "execution_count": 6,
   "metadata": {},
   "outputs": [],
   "source": [
    "class Generation:\n",
    "    cnt = 0\n",
    "    def __init__(self, population):\n",
    "        Generation.cnt += 1\n",
    "        self.generation_lv = Generation.cnt\n",
    "        self.population = population\n",
    "        # self.selected_chromo = self.select_chromo()\n",
    "        self.sorted_pop = self.sort_pop()\n",
    "    \n",
    "    def __repr__(self):\n",
    "        return \"Generation Level : {}\".format(self.generation_lv)\n",
    "    \n",
    "    def select_chromo(self):\n",
    "        pass\n",
    "    \n",
    "    def evolution(self):\n",
    "        next_generation = list()\n",
    "        # select Good_parents\n",
    "        good_parents = self.sorted_pop[:GOOD_PARENTS_CNT]\n",
    "        \n",
    "        # select Lucky_parents\n",
    "        lucky_parents = random.sample(self.sorted_pop[GOOD_PARENTS_CNT:], LUCKY_PARENTS_CNT)\n",
    "        \n",
    "        \n",
    "        # make Childeren\n",
    "        good_child = self.make_children(good_parents)\n",
    "        lucky_child = self.make_children(lucky_parents)\n",
    "        \n",
    "        # merge Childeren\n",
    "        children = good_child + lucky_child\n",
    "        random.shuffle(children)\n",
    "            \n",
    "        # make mutations\n",
    "        children = self.make_mutation(children)\n",
    "            \n",
    "        return next_generation\n",
    "    \n",
    "    def sort_pop(self):\n",
    "        sorted_pop = sorted(self.population, key=lambda x: x.fitness, reverse=False)\n",
    "        \n",
    "        return sorted_pop\n",
    "    \n",
    "    def make_children(self, parents):\n",
    "        children = list()\n",
    "        \n",
    "        # crossover\n",
    "        for i in range(len(parents) / 2):\n",
    "            # 한개는 중간에서 반반 섞기\n",
    "            split_child = parents[i][:LEN_FLATTENED/2] + parents[len(parents)-i][LEN_FLATTENED/2:]\n",
    "            children.append(split_child)\n",
    "            \n",
    "            # 나머지는 랜덤으로 가져오기\n",
    "            for _ in range(CHILDREN_CNT - 1):\n",
    "                random_child = random.sample(parents[i] + parents[len(parents)-i], LEN_FLATTENED)\n",
    "                children.append(random_child)\n",
    "        \n",
    "        return children\n",
    "    \n",
    "    def make_muatation(self, children):\n",
    "        mutated = list()\n",
    "        \n",
    "        return mutated\n",
    "        \n",
    "        \n",
    "        \n",
    "        "
   ]
  },
  {
   "cell_type": "code",
   "execution_count": 11,
   "metadata": {},
   "outputs": [],
   "source": [
    "dna = [chromoSome() for _ in range(10)]"
   ]
  },
  {
   "cell_type": "code",
   "execution_count": 12,
   "metadata": {},
   "outputs": [],
   "source": [
    "a = Generation(dna)"
   ]
  },
  {
   "cell_type": "code",
   "execution_count": 8,
   "metadata": {},
   "outputs": [],
   "source": [
    "class chromoSome:\n",
    "    def __init__(self, chromo_data=None):\n",
    "        if chromo_data is None:\n",
    "            self.chromo = [np.random.randint(255) for _ in range(len(FLATTENED))]\n",
    "        else:\n",
    "            self.chromo = chromo_data\n",
    "    \n",
    "    def __repr__(self):\n",
    "        return \"chromosome fitenss : {}\".format(self.fitness)\n",
    "    \n",
    "    @property\n",
    "    def fitness(self):\n",
    "        # score가 0에 가까우면 좋은 것\n",
    "        score = 0\n",
    "        for gene, wanted in zip(self.chromo, FLATTENED):\n",
    "            score += abs(gene - wanted)\n",
    "        \n",
    "        return score\n",
    "            \n",
    "    "
   ]
  },
  {
   "cell_type": "code",
   "execution_count": null,
   "metadata": {},
   "outputs": [],
   "source": [
    "# Fitness function\n",
    "# Selection\n",
    "# Crossover\n",
    "# Mutation"
   ]
  },
  {
   "cell_type": "code",
   "execution_count": 18,
   "metadata": {},
   "outputs": [],
   "source": [
    "w, h = 512, 512\n",
    "data = np.zeros((h, w, 3), dtype=np.uint8)\n",
    "data[0:256, 0:256] = [255, 0, 0] # red patch in upper left\n",
    "img = Image.fromarray(data, 'RGB')\n",
    "img.show()"
   ]
  },
  {
   "cell_type": "code",
   "execution_count": null,
   "metadata": {},
   "outputs": [],
   "source": []
  }
 ],
 "metadata": {
  "kernelspec": {
   "display_name": "pytorch",
   "language": "python",
   "name": "pytorch"
  },
  "language_info": {
   "codemirror_mode": {
    "name": "ipython",
    "version": 3
   },
   "file_extension": ".py",
   "mimetype": "text/x-python",
   "name": "python",
   "nbconvert_exporter": "python",
   "pygments_lexer": "ipython3",
   "version": "3.7.2"
  }
 },
 "nbformat": 4,
 "nbformat_minor": 2
}
