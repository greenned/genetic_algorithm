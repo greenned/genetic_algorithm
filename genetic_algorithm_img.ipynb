{
 "cells": [
  {
   "cell_type": "code",
   "execution_count": 1,
   "metadata": {},
   "outputs": [],
   "source": [
    "from random import uniform\n",
    "import numpy as np\n",
    "import matplotlib.pyplot as plt\n",
    "import matplotlib.image as mpimg\n",
    "from PIL import Image\n",
    "import random, pickle\n",
    "from tqdm import tqdm"
   ]
  },
  {
   "cell_type": "markdown",
   "metadata": {},
   "source": [
    "## Configs"
   ]
  },
  {
   "cell_type": "code",
   "execution_count": 2,
   "metadata": {},
   "outputs": [],
   "source": [
    "# chormosome의 개수\n",
    "POPULATION = 100\n",
    "\n",
    "# 좋은 chormosome의 개수\n",
    "GOOD_PARENTS_CNT = 30\n",
    "\n",
    "# 운좋은 chormosome의 개수\n",
    "LUCKY_PARENTS_CNT = 10\n",
    "\n",
    "# 각 parent가 만드는 chromosome 개수\n",
    "CHILDREN_CNT = 5\n",
    "\n",
    "# 돌연변이 생성 비율\n",
    "MUTATION_PROB = 0.1\n",
    "\n",
    "# 최대 세대 수 \n",
    "MAX_GENERATIONS = 50"
   ]
  },
  {
   "cell_type": "markdown",
   "metadata": {},
   "source": [
    "## Load the image and flatten it"
   ]
  },
  {
   "cell_type": "code",
   "execution_count": 3,
   "metadata": {},
   "outputs": [],
   "source": [
    "# Load Image\n",
    "jpg_img_arr = mpimg.imread('Bigger-Splash-1967.jpg')\n",
    "jpg_IMG = Image.open('Bigger-Splash-1967.jpg')\n",
    "FLATTENED = jpg_img_arr.flatten()\n",
    "LEN_FLATTENED = len(FLATTENED)\n",
    "# print(\"flattend size :\", FLATTENED.shape)\n",
    "\n",
    "def save_pickle(data, filename):\n",
    "    with open(\"{}.pickle\".format(filename), 'wb') as t:\n",
    "        pickle.dump(data, t)\n",
    "    print(\"PICKLE SAVE DONE\")"
   ]
  },
  {
   "cell_type": "markdown",
   "metadata": {},
   "source": [
    "## Initial Population"
   ]
  },
  {
   "cell_type": "code",
   "execution_count": 4,
   "metadata": {},
   "outputs": [],
   "source": [
    "class chromoSome:\n",
    "    def __init__(self, chromo_data=None):\n",
    "        if chromo_data is None:\n",
    "            self.chromo = [np.random.randint(255) for _ in range(len(FLATTENED))]\n",
    "        else:\n",
    "            self.chromo = chromo_data\n",
    "    \n",
    "    def __repr__(self):\n",
    "        return \"chromosome fitenss : {}\".format(self.fitness)\n",
    "    \n",
    "    @property\n",
    "    def fitness(self):\n",
    "        # score가 0에 가까우면 좋은 것\n",
    "        score = 0\n",
    "        for gene, wanted in zip(self.chromo, FLATTENED):\n",
    "            score += abs(gene - wanted)\n",
    "        \n",
    "        return score\n",
    "\n",
    "class Generation:\n",
    "    cnt = 0\n",
    "    def __init__(self, population):\n",
    "        Generation.cnt += 1\n",
    "        self.generation_lv = Generation.cnt\n",
    "        self.population = population\n",
    "        self.sorted_pop = self.sort_pop()\n",
    "    \n",
    "    def __repr__(self):\n",
    "        return \"Generation Level : {}\".format(self.generation_lv)\n",
    "    \n",
    " \n",
    "    def evolution(self):\n",
    "        print(\"Start Evolution Generation level %d\" % Generation.cnt)\n",
    "        # next_generation = list()\n",
    "        # select Good_parents\n",
    "        good_parents = self.sorted_pop[:GOOD_PARENTS_CNT]\n",
    "        \n",
    "        # select Lucky_parents\n",
    "        lucky_parents = random.sample(self.sorted_pop[GOOD_PARENTS_CNT:], LUCKY_PARENTS_CNT)\n",
    "        \n",
    "#         print(\"good :\", good_parents)\n",
    "#         print(\"lucky :\", lucky_parents)\n",
    "        \n",
    "        # make Childeren\n",
    "        good_child = self.make_children(good_parents)\n",
    "        lucky_child = self.make_children(lucky_parents)\n",
    "        \n",
    "        # merge Childeren\n",
    "        children = good_child + lucky_child\n",
    "        random.shuffle(children)\n",
    "        \n",
    "        # make mutations\n",
    "        children = self.make_mutation(children)\n",
    "                \n",
    "        return Generation(children)\n",
    "    \n",
    "    def sort_pop(self):\n",
    "        sorted_pop = sorted(self.population, key=lambda x: x.fitness, reverse=False)\n",
    "        \n",
    "        return sorted_pop\n",
    "    \n",
    "    def make_children(self, parents):\n",
    "        children = list()\n",
    "        \n",
    "        # crossover\n",
    "        for i in range(int(len(parents) / 2)):\n",
    "            # 한개는 중간에서 반반 섞기\n",
    "            split_child = chromoSome(parents[i].chromo[:int(LEN_FLATTENED/2)] + parents[len(parents)-1-i].chromo[:int(LEN_FLATTENED/2)])\n",
    "            children.append(split_child)\n",
    "            \n",
    "            # 나머지는 랜덤으로 가져오기\n",
    "            for _ in range(CHILDREN_CNT - 1):\n",
    "                random_child = chromoSome(random.sample(parents[i].chromo + parents[len(parents)-1-i].chromo, LEN_FLATTENED))\n",
    "                children.append(random_child)\n",
    "        \n",
    "        return children\n",
    "    \n",
    "    @property\n",
    "    def mean_fitness(self):\n",
    "        return np.mean([chromosome.fitness for chromosome in self.population])\n",
    "    \n",
    "    @property\n",
    "    def get_best(self):\n",
    "        return sorted(self.population, key=lambda x: x.fitness, reverse=True)[0]\n",
    "    \n",
    "    \n",
    "    def make_mutation(self, children):\n",
    "        # mutated = list()\n",
    "        mutation_cnt = int(len(children) * MUTATION_PROB)\n",
    "        for i in range(mutation_cnt):\n",
    "            children[i] = chromoSome([np.random.randint(255) for _ in range(LEN_FLATTENED)])\n",
    "        \n",
    "        return children\n",
    "    \n",
    "    def fitness(self):\n",
    "        return np.mean([chromo.fitness for chromo in self.population])"
   ]
  },
  {
   "cell_type": "code",
   "execution_count": null,
   "metadata": {},
   "outputs": [
    {
     "name": "stdout",
     "output_type": "stream",
     "text": [
      "Generation Level : 1\n"
     ]
    },
    {
     "name": "stderr",
     "output_type": "stream",
     "text": [
      "  0%|          | 0/50 [00:00<?, ?it/s]"
     ]
    },
    {
     "name": "stdout",
     "output_type": "stream",
     "text": [
      "Start Evolution Generation level 1\n"
     ]
    }
   ],
   "source": [
    "# first generation\n",
    "\n",
    "i = 0\n",
    "initial_population = [chromoSome() for _ in range(POPULATION)]\n",
    "gen = Generation(initial_population)\n",
    "print(gen)\n",
    "\n",
    "\n",
    "mean_fitness_list = list()\n",
    "for num in tqdm(range(MAX_GENERATIONS)):\n",
    "    gen = gen.evolution()\n",
    "    mean_fitness = gen.mean_fitness\n",
    "    print(\"mean fitness : {}\".format(mean_fitness))\n",
    "    mean_fitness_list.append(mean_fitness)\n",
    "\n",
    "best_chromosome = gen.get_best\n",
    "\n",
    "save_pickle(mean_fitness_list, \"mean_fitness_list\")\n",
    "save_pickle(best_chromosome, \"best_chromosome\")"
   ]
  },
  {
   "cell_type": "code",
   "execution_count": null,
   "metadata": {},
   "outputs": [],
   "source": [
    "shapen = np.reshape(best_chromosome.chromo,jpg_img_arr.shape)\n",
    "img = Image.fromarray(shapen, 'RGB')\n",
    "img"
   ]
  },
  {
   "cell_type": "code",
   "execution_count": null,
   "metadata": {},
   "outputs": [],
   "source": []
  }
 ],
 "metadata": {
  "kernelspec": {
   "display_name": "pytorch",
   "language": "python",
   "name": "pytorch"
  },
  "language_info": {
   "codemirror_mode": {
    "name": "ipython",
    "version": 3
   },
   "file_extension": ".py",
   "mimetype": "text/x-python",
   "name": "python",
   "nbconvert_exporter": "python",
   "pygments_lexer": "ipython3",
   "version": "3.7.2"
  }
 },
 "nbformat": 4,
 "nbformat_minor": 2
}
