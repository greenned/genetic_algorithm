{
 "cells": [
  {
   "cell_type": "code",
   "execution_count": 1,
   "metadata": {},
   "outputs": [],
   "source": [
    "from random import uniform\n",
    "import numpy as np\n",
    "import matplotlib.pyplot as plt\n",
    "import matplotlib.image as mpimg\n",
    "from PIL import Image\n",
    "import random, pickle\n",
    "from tqdm import tqdm\n",
    "from matplotlib import pyplot as plt\n",
    "import cv2, time"
   ]
  },
  {
   "cell_type": "code",
   "execution_count": 2,
   "metadata": {},
   "outputs": [],
   "source": [
    "def save_pickle(data, filename):\n",
    "    with open(\"{}.pickle\".format(filename), 'wb') as t:\n",
    "        pickle.dump(data, t)\n",
    "    print(\"PICKLE SAVE DONE\")\n",
    "\n",
    "def show_img(bgr):\n",
    "    rgb = cv2.cvtColor(bgr, cv2.COLOR_BGR2RGB)\n",
    "    plt.imshow(rgb)"
   ]
  },
  {
   "cell_type": "markdown",
   "metadata": {},
   "source": [
    "## Configs"
   ]
  },
  {
   "cell_type": "code",
   "execution_count": 3,
   "metadata": {},
   "outputs": [],
   "source": [
    "# chormosome의 개수\n",
    "POPULATION = 100\n",
    "\n",
    "# 좋은 chormosome의 개수\n",
    "GOOD_PARENTS_CNT = 30\n",
    "\n",
    "# 운좋은 chormosome의 개수\n",
    "LUCKY_PARENTS_CNT = 10\n",
    "\n",
    "# 각 parent가 만드는 chromosome 개수\n",
    "CHILDREN_CNT = 5\n",
    "\n",
    "# 돌연변이 생성 비율\n",
    "MUTATION_PROB = 0.1\n",
    "\n",
    "# 최대 세대 수 \n",
    "MAX_GENERATIONS = 50"
   ]
  },
  {
   "cell_type": "markdown",
   "metadata": {},
   "source": [
    "## Load the image"
   ]
  },
  {
   "cell_type": "code",
   "execution_count": 4,
   "metadata": {},
   "outputs": [],
   "source": [
    "# Load Image\n",
    "\n",
    "IMA_ARR = cv2.imread('Bigger-Splash-1967.jpg')\n",
    "\n",
    "# jpg_img_arr = mpimg.imread('Bigger-Splash-1967.jpg')\n",
    "# jpg_IMG = Image.open('Bigger-Splash-1967.jpg')\n",
    "# FLATTENED = jpg_img_arr.flatten()\n",
    "# LEN_FLATTENED = len(FLATTENED)\n",
    "# print(\"flattend size :\", FLATTENED.shape)"
   ]
  },
  {
   "cell_type": "markdown",
   "metadata": {},
   "source": [
    "## Initial Population"
   ]
  },
  {
   "cell_type": "code",
   "execution_count": 5,
   "metadata": {},
   "outputs": [
    {
     "data": {
      "text/plain": [
       "[1, 2]"
      ]
     },
     "execution_count": 5,
     "metadata": {},
     "output_type": "execute_result"
    }
   ],
   "source": [
    "sorted([1,2], reverse=False)"
   ]
  },
  {
   "cell_type": "code",
   "execution_count": 6,
   "metadata": {},
   "outputs": [],
   "source": [
    "class chromoSome:\n",
    "    def __init__(self, real_img, res=10, chromo_data=None):\n",
    "        self.real_img = real_img\n",
    "        self.img_size = real_img.shape\n",
    "        self.res = res\n",
    "        \n",
    "        if chromo_data is None:\n",
    "            self.create_random_img()\n",
    "        else:\n",
    "            self.img = chromo_data\n",
    "    \n",
    "    def __repr__(self):\n",
    "        return \"chromosome fitenss : {}\".format(self.fitness)\n",
    "    \n",
    "    @property\n",
    "    def fitness(self):\n",
    "        # score가 0에 가까우면 좋은 것\n",
    "        \n",
    "        score = 0\n",
    "        \n",
    "        dist = abs(self.real_img-self.img).sum()\n",
    "        #dist = np.linalg.norm(self.real_img - self.img) / (self.img_size[0] * self.img_size[1])\n",
    "        score = 1. / dist\n",
    "        \n",
    "\n",
    "        return score\n",
    "    \n",
    "    def create_random_img(self):\n",
    "        self.img = np.zeros(self.img_size, np.uint8)\n",
    "        self.assign_circle()\n",
    "        \n",
    "        \n",
    "    def assign_circle(self):\n",
    "        center_x = np.random.randint(0, self.img_size[1])\n",
    "        center_y = np.random.randint(0, self.img_size[0])\n",
    "        radius = np.random.randint(0, self.img_size[0]/4)\n",
    "        #radius   = np.random.randint(0, int(self.img_size[0] / (1.1*self.res)))\n",
    "        opacity  = np.random.rand(1)[0]\n",
    "        color    = chromoSome.get_bgr_color()\n",
    "        \n",
    "        overlay  = self.img.copy()\n",
    "        cv2.circle(overlay, (center_x, center_y), radius, color, -1)\n",
    "        cv2.addWeighted(overlay, opacity, self.img, 1 - opacity, 0, self.img)\n",
    "        \n",
    "        \n",
    "    def get_bgr_color():\n",
    "        blue  = np.random.randint(0, 255)\n",
    "        green = np.random.randint(0, 255)\n",
    "        red   = np.random.randint(0, 255)\n",
    "        return (blue, green, red)\n",
    "        \n",
    "\n",
    "class Generation:\n",
    "    cnt = 0\n",
    "    def __init__(self, population):\n",
    "        Generation.cnt += 1\n",
    "        self.generation_lv = Generation.cnt\n",
    "        self.population = population\n",
    "        self.sorted_pop = self.sort_pop()\n",
    "\n",
    "    \n",
    "    def __repr__(self):\n",
    "        return \"Generation Level : {}\".format(self.generation_lv)\n",
    "    \n",
    " \n",
    "    def assign_fitness(self):\n",
    "        self.best_chromo = self.sorted_pop[0]\n",
    "        self.second_chromo = self.sorted_pop[1]\n",
    "           \n",
    "    def evolution(self):\n",
    "        \n",
    "        #print(\"Start Evolution Generation level %d\" % Generation.cnt)\n",
    "        self.assign_fitness()\n",
    "        \n",
    "        children = list()\n",
    "        for _ in range(POPULATION):\n",
    "            child = self.make_child()\n",
    "            children.append(child)\n",
    "        \n",
    "\n",
    "#         good_parents = self.sorted_pop[:GOOD_PARENTS_CNT]\n",
    "        \n",
    "        \n",
    "        # select Lucky_parents\n",
    "#        lucky_parents = random.sample(self.sorted_pop[GOOD_PARENTS_CNT:], LUCKY_PARENTS_CNT)\n",
    "        \n",
    "#         # make Childeren\n",
    "#         good_child = self.make_children(good_parents)\n",
    "#         lucky_child = self.make_children(lucky_parents)\n",
    "        \n",
    "#         # merge Childeren\n",
    "#         children = good_child + lucky_child\n",
    "#         random.shuffle(children)\n",
    "        \n",
    "#         # make mutations\n",
    "#         children = self.make_mutation(children)\n",
    "                \n",
    "        return Generation(children)\n",
    "    \n",
    "    def sort_pop(self):\n",
    "        sorted_pop = sorted(self.population, key=lambda x: x.fitness, reverse=False)\n",
    "        #self.best = sorted_pop[0]\n",
    "        \n",
    "        return sorted_pop\n",
    "    \n",
    "    def make_child(self):\n",
    "\n",
    "        ind1_weight = np.random.rand(1)[0]\n",
    "        new_image = np.zeros((self.population[0].img_size), dtype=np.uint8)\n",
    "        \n",
    "        cv2.addWeighted(self.best_chromo.img, ind1_weight, self.second_chromo.img, 1 - ind1_weight, 0, new_image)\n",
    "        child = chromoSome(real_img=self.best_chromo.real_img, chromo_data=new_image)\n",
    "        \n",
    "        \n",
    "        # crossover\n",
    "#         for i in range(int(len(parents) / 2)):\n",
    "            \n",
    "            \n",
    "            # 한개는 중간에서 반반 섞기\n",
    "#             split_child = chromoSome(parents[i].chromo[:int(LEN_FLATTENED/2)] + parents[len(parents)-1-i].chromo[:int(LEN_FLATTENED/2)])\n",
    "#             children.append(split_child)\n",
    "            \n",
    "#             # 나머지는 랜덤으로 가져오기\n",
    "#             for _ in range(CHILDREN_CNT - 1):\n",
    "#                 random_child = chromoSome(random.sample(parents[i].chromo + parents[len(parents)-1-i].chromo, LEN_FLATTENED))\n",
    "#                 children.append(random_child)\n",
    "        \n",
    "        return child\n",
    "    \n",
    "    @property\n",
    "    def mean_fitness(self):\n",
    "        return np.mean([chromosome.fitness for chromosome in self.population])\n",
    "    \n",
    "    @property\n",
    "    def get_best(self):\n",
    "        return sorted(self.population, key=lambda x: x.fitness, reverse=False)[0]\n",
    "    \n",
    "    \n",
    "    def make_mutation(self, children):\n",
    "        # mutated = list()\n",
    "        mutation_cnt = int(len(children) * MUTATION_PROB)\n",
    "        for i in range(mutation_cnt):\n",
    "            children[i] = chromoSome(np.random.randint(0,255,size=IMA_ARR.shape))\n",
    "            #children[i] = chromoSome([np.random.randint(255) for _ in range(LEN_FLATTENED)])\n",
    "        \n",
    "        return children\n",
    "    \n",
    "    def fitness(self):\n",
    "        return np.mean([chromo.fitness for chromo in self.population])"
   ]
  },
  {
   "cell_type": "code",
   "execution_count": 7,
   "metadata": {},
   "outputs": [
    {
     "name": "stderr",
     "output_type": "stream",
     "text": [
      "  3%|▎         | 293/10000 [01:34<52:39,  3.07it/s]"
     ]
    },
    {
     "ename": "KeyboardInterrupt",
     "evalue": "",
     "output_type": "error",
     "traceback": [
      "\u001b[0;31m---------------------------------------------------------------------------\u001b[0m",
      "\u001b[0;31mKeyboardInterrupt\u001b[0m                         Traceback (most recent call last)",
      "\u001b[0;32m<ipython-input-7-9d4a9046c052>\u001b[0m in \u001b[0;36m<module>\u001b[0;34m\u001b[0m\n\u001b[1;32m      7\u001b[0m \u001b[0;34m\u001b[0m\u001b[0m\n\u001b[1;32m      8\u001b[0m \u001b[0;32mfor\u001b[0m \u001b[0mi\u001b[0m \u001b[0;32min\u001b[0m \u001b[0mtqdm\u001b[0m\u001b[0;34m(\u001b[0m\u001b[0mrange\u001b[0m\u001b[0;34m(\u001b[0m\u001b[0;36m10000\u001b[0m\u001b[0;34m)\u001b[0m\u001b[0;34m)\u001b[0m\u001b[0;34m:\u001b[0m\u001b[0;34m\u001b[0m\u001b[0;34m\u001b[0m\u001b[0m\n\u001b[0;32m----> 9\u001b[0;31m     \u001b[0mgen\u001b[0m \u001b[0;34m=\u001b[0m \u001b[0mgen\u001b[0m\u001b[0;34m.\u001b[0m\u001b[0mevolution\u001b[0m\u001b[0;34m(\u001b[0m\u001b[0;34m)\u001b[0m\u001b[0;34m\u001b[0m\u001b[0;34m\u001b[0m\u001b[0m\n\u001b[0m\u001b[1;32m     10\u001b[0m \u001b[0;34m\u001b[0m\u001b[0m\n\u001b[1;32m     11\u001b[0m     \u001b[0;32mif\u001b[0m \u001b[0mi\u001b[0m \u001b[0;34m%\u001b[0m \u001b[0;36m100\u001b[0m \u001b[0;34m==\u001b[0m \u001b[0;36m0\u001b[0m\u001b[0;34m:\u001b[0m\u001b[0;34m\u001b[0m\u001b[0;34m\u001b[0m\u001b[0m\n",
      "\u001b[0;32m<ipython-input-6-8815c8b2fe6d>\u001b[0m in \u001b[0;36mevolution\u001b[0;34m(self)\u001b[0m\n\u001b[1;32m     75\u001b[0m         \u001b[0mchildren\u001b[0m \u001b[0;34m=\u001b[0m \u001b[0mlist\u001b[0m\u001b[0;34m(\u001b[0m\u001b[0;34m)\u001b[0m\u001b[0;34m\u001b[0m\u001b[0;34m\u001b[0m\u001b[0m\n\u001b[1;32m     76\u001b[0m         \u001b[0;32mfor\u001b[0m \u001b[0m_\u001b[0m \u001b[0;32min\u001b[0m \u001b[0mrange\u001b[0m\u001b[0;34m(\u001b[0m\u001b[0mPOPULATION\u001b[0m\u001b[0;34m)\u001b[0m\u001b[0;34m:\u001b[0m\u001b[0;34m\u001b[0m\u001b[0;34m\u001b[0m\u001b[0m\n\u001b[0;32m---> 77\u001b[0;31m             \u001b[0mchild\u001b[0m \u001b[0;34m=\u001b[0m \u001b[0mself\u001b[0m\u001b[0;34m.\u001b[0m\u001b[0mmake_child\u001b[0m\u001b[0;34m(\u001b[0m\u001b[0;34m)\u001b[0m\u001b[0;34m\u001b[0m\u001b[0;34m\u001b[0m\u001b[0m\n\u001b[0m\u001b[1;32m     78\u001b[0m             \u001b[0mchildren\u001b[0m\u001b[0;34m.\u001b[0m\u001b[0mappend\u001b[0m\u001b[0;34m(\u001b[0m\u001b[0mchild\u001b[0m\u001b[0;34m)\u001b[0m\u001b[0;34m\u001b[0m\u001b[0;34m\u001b[0m\u001b[0m\n\u001b[1;32m     79\u001b[0m \u001b[0;34m\u001b[0m\u001b[0m\n",
      "\u001b[0;32m<ipython-input-6-8815c8b2fe6d>\u001b[0m in \u001b[0;36mmake_child\u001b[0;34m(self)\u001b[0m\n\u001b[1;32m    109\u001b[0m         \u001b[0mnew_image\u001b[0m \u001b[0;34m=\u001b[0m \u001b[0mnp\u001b[0m\u001b[0;34m.\u001b[0m\u001b[0mzeros\u001b[0m\u001b[0;34m(\u001b[0m\u001b[0;34m(\u001b[0m\u001b[0mself\u001b[0m\u001b[0;34m.\u001b[0m\u001b[0mpopulation\u001b[0m\u001b[0;34m[\u001b[0m\u001b[0;36m0\u001b[0m\u001b[0;34m]\u001b[0m\u001b[0;34m.\u001b[0m\u001b[0mimg_size\u001b[0m\u001b[0;34m)\u001b[0m\u001b[0;34m,\u001b[0m \u001b[0mdtype\u001b[0m\u001b[0;34m=\u001b[0m\u001b[0mnp\u001b[0m\u001b[0;34m.\u001b[0m\u001b[0muint8\u001b[0m\u001b[0;34m)\u001b[0m\u001b[0;34m\u001b[0m\u001b[0;34m\u001b[0m\u001b[0m\n\u001b[1;32m    110\u001b[0m \u001b[0;34m\u001b[0m\u001b[0m\n\u001b[0;32m--> 111\u001b[0;31m         \u001b[0mcv2\u001b[0m\u001b[0;34m.\u001b[0m\u001b[0maddWeighted\u001b[0m\u001b[0;34m(\u001b[0m\u001b[0mself\u001b[0m\u001b[0;34m.\u001b[0m\u001b[0mbest_chromo\u001b[0m\u001b[0;34m.\u001b[0m\u001b[0mimg\u001b[0m\u001b[0;34m,\u001b[0m \u001b[0mind1_weight\u001b[0m\u001b[0;34m,\u001b[0m \u001b[0mself\u001b[0m\u001b[0;34m.\u001b[0m\u001b[0msecond_chromo\u001b[0m\u001b[0;34m.\u001b[0m\u001b[0mimg\u001b[0m\u001b[0;34m,\u001b[0m \u001b[0;36m1\u001b[0m \u001b[0;34m-\u001b[0m \u001b[0mind1_weight\u001b[0m\u001b[0;34m,\u001b[0m \u001b[0;36m0\u001b[0m\u001b[0;34m,\u001b[0m \u001b[0mnew_image\u001b[0m\u001b[0;34m)\u001b[0m\u001b[0;34m\u001b[0m\u001b[0;34m\u001b[0m\u001b[0m\n\u001b[0m\u001b[1;32m    112\u001b[0m         \u001b[0mchild\u001b[0m \u001b[0;34m=\u001b[0m \u001b[0mchromoSome\u001b[0m\u001b[0;34m(\u001b[0m\u001b[0mreal_img\u001b[0m\u001b[0;34m=\u001b[0m\u001b[0mself\u001b[0m\u001b[0;34m.\u001b[0m\u001b[0mbest_chromo\u001b[0m\u001b[0;34m.\u001b[0m\u001b[0mreal_img\u001b[0m\u001b[0;34m,\u001b[0m \u001b[0mchromo_data\u001b[0m\u001b[0;34m=\u001b[0m\u001b[0mnew_image\u001b[0m\u001b[0;34m)\u001b[0m\u001b[0;34m\u001b[0m\u001b[0;34m\u001b[0m\u001b[0m\n\u001b[1;32m    113\u001b[0m \u001b[0;34m\u001b[0m\u001b[0m\n",
      "\u001b[0;31mKeyboardInterrupt\u001b[0m: "
     ]
    }
   ],
   "source": [
    "IMA_ARR = cv2.imread('Bigger-Splash-1967.jpg')\n",
    "fitness_list = list()\n",
    "\n",
    "initial_pop = [chromoSome(real_img=IMA_ARR) for _ in range(POPULATION)]\n",
    "gen = Generation(initial_pop)\n",
    "g = gen.evolution()\n",
    "\n",
    "for i in tqdm(range(10000)):\n",
    "    gen = gen.evolution()\n",
    "    \n",
    "    if i % 100 == 0:\n",
    "        best = gen.get_best\n",
    "        fitness_list.append(best.fitness)\n",
    "        cv2.imwrite(\"./img/{}_img.jpg\".format(i), best.img)\n",
    "        \n",
    "\n",
    "# best = gen.get_best"
   ]
  },
  {
   "cell_type": "code",
   "execution_count": 16,
   "metadata": {},
   "outputs": [
    {
     "data": {
      "image/png": "[encoded data removed]",
      "text/plain": [
       "<Figure size 432x288 with 1 Axes>"
      ]
     },
     "metadata": {
      "needs_background": "light"
     },
     "output_type": "display_data"
    }
   ],
   "source": [
    "#show_img(gen.sorted_pop[32].img)\n",
    "show_img(initial_pop[10].img)"
   ]
  },
  {
   "cell_type": "code",
   "execution_count": 7,
   "metadata": {},
   "outputs": [],
   "source": [
    "initial_pop = [chromoSome(real_img=IMA_ARR) for _ in range(POPULATION)]"
   ]
  },
  {
   "cell_type": "code",
   "execution_count": 10,
   "metadata": {},
   "outputs": [
    {
     "ename": "KeyboardInterrupt",
     "evalue": "",
     "output_type": "error",
     "traceback": [
      "\u001b[0;31m---------------------------------------------------------------------------\u001b[0m",
      "\u001b[0;31mKeyboardInterrupt\u001b[0m                         Traceback (most recent call last)",
      "\u001b[0;32m<ipython-input-10-c9816b57bc75>\u001b[0m in \u001b[0;36m<module>\u001b[0;34m\u001b[0m\n\u001b[1;32m      1\u001b[0m \u001b[0;32mfor\u001b[0m \u001b[0mi\u001b[0m \u001b[0;32min\u001b[0m \u001b[0minitial_pop\u001b[0m\u001b[0;34m:\u001b[0m\u001b[0;34m\u001b[0m\u001b[0;34m\u001b[0m\u001b[0m\n\u001b[0;32m----> 2\u001b[0;31m     \u001b[0mshow_img\u001b[0m\u001b[0;34m(\u001b[0m\u001b[0mi\u001b[0m\u001b[0;34m.\u001b[0m\u001b[0mimg\u001b[0m\u001b[0;34m)\u001b[0m\u001b[0;34m\u001b[0m\u001b[0;34m\u001b[0m\u001b[0m\n\u001b[0m\u001b[1;32m      3\u001b[0m     \u001b[0mtime\u001b[0m\u001b[0;34m.\u001b[0m\u001b[0msleep\u001b[0m\u001b[0;34m(\u001b[0m\u001b[0;36m0.3\u001b[0m\u001b[0;34m)\u001b[0m\u001b[0;34m\u001b[0m\u001b[0;34m\u001b[0m\u001b[0m\n\u001b[1;32m      4\u001b[0m \u001b[0;34m\u001b[0m\u001b[0m\n",
      "\u001b[0;32m<ipython-input-2-8fdc636b2a86>\u001b[0m in \u001b[0;36mshow_img\u001b[0;34m(bgr)\u001b[0m\n\u001b[1;32m      6\u001b[0m \u001b[0;32mdef\u001b[0m \u001b[0mshow_img\u001b[0m\u001b[0;34m(\u001b[0m\u001b[0mbgr\u001b[0m\u001b[0;34m)\u001b[0m\u001b[0;34m:\u001b[0m\u001b[0;34m\u001b[0m\u001b[0;34m\u001b[0m\u001b[0m\n\u001b[1;32m      7\u001b[0m     \u001b[0mrgb\u001b[0m \u001b[0;34m=\u001b[0m \u001b[0mcv2\u001b[0m\u001b[0;34m.\u001b[0m\u001b[0mcvtColor\u001b[0m\u001b[0;34m(\u001b[0m\u001b[0mbgr\u001b[0m\u001b[0;34m,\u001b[0m \u001b[0mcv2\u001b[0m\u001b[0;34m.\u001b[0m\u001b[0mCOLOR_BGR2RGB\u001b[0m\u001b[0;34m)\u001b[0m\u001b[0;34m\u001b[0m\u001b[0;34m\u001b[0m\u001b[0m\n\u001b[0;32m----> 8\u001b[0;31m     \u001b[0mplt\u001b[0m\u001b[0;34m.\u001b[0m\u001b[0mimshow\u001b[0m\u001b[0;34m(\u001b[0m\u001b[0mrgb\u001b[0m\u001b[0;34m)\u001b[0m\u001b[0;34m\u001b[0m\u001b[0;34m\u001b[0m\u001b[0m\n\u001b[0m",
      "\u001b[0;32m~/.pyenv/versions/pytorch/lib/python3.7/site-packages/matplotlib/pyplot.py\u001b[0m in \u001b[0;36mimshow\u001b[0;34m(X, cmap, norm, aspect, interpolation, alpha, vmin, vmax, origin, extent, shape, filternorm, filterrad, imlim, resample, url, data, **kwargs)\u001b[0m\n\u001b[1;32m   2697\u001b[0m         \u001b[0mfilternorm\u001b[0m\u001b[0;34m=\u001b[0m\u001b[0mfilternorm\u001b[0m\u001b[0;34m,\u001b[0m \u001b[0mfilterrad\u001b[0m\u001b[0;34m=\u001b[0m\u001b[0mfilterrad\u001b[0m\u001b[0;34m,\u001b[0m \u001b[0mimlim\u001b[0m\u001b[0;34m=\u001b[0m\u001b[0mimlim\u001b[0m\u001b[0;34m,\u001b[0m\u001b[0;34m\u001b[0m\u001b[0;34m\u001b[0m\u001b[0m\n\u001b[1;32m   2698\u001b[0m         resample=resample, url=url, **({\"data\": data} if data is not\n\u001b[0;32m-> 2699\u001b[0;31m         None else {}), **kwargs)\n\u001b[0m\u001b[1;32m   2700\u001b[0m     \u001b[0msci\u001b[0m\u001b[0;34m(\u001b[0m\u001b[0m__ret\u001b[0m\u001b[0;34m)\u001b[0m\u001b[0;34m\u001b[0m\u001b[0;34m\u001b[0m\u001b[0m\n\u001b[1;32m   2701\u001b[0m     \u001b[0;32mreturn\u001b[0m \u001b[0m__ret\u001b[0m\u001b[0;34m\u001b[0m\u001b[0;34m\u001b[0m\u001b[0m\n",
      "\u001b[0;32m~/.pyenv/versions/pytorch/lib/python3.7/site-packages/matplotlib/__init__.py\u001b[0m in \u001b[0;36minner\u001b[0;34m(ax, data, *args, **kwargs)\u001b[0m\n\u001b[1;32m   1808\u001b[0m                         \u001b[0;34m\"the Matplotlib list!)\"\u001b[0m \u001b[0;34m%\u001b[0m \u001b[0;34m(\u001b[0m\u001b[0mlabel_namer\u001b[0m\u001b[0;34m,\u001b[0m \u001b[0mfunc\u001b[0m\u001b[0;34m.\u001b[0m\u001b[0m__name__\u001b[0m\u001b[0;34m)\u001b[0m\u001b[0;34m,\u001b[0m\u001b[0;34m\u001b[0m\u001b[0;34m\u001b[0m\u001b[0m\n\u001b[1;32m   1809\u001b[0m                         RuntimeWarning, stacklevel=2)\n\u001b[0;32m-> 1810\u001b[0;31m             \u001b[0;32mreturn\u001b[0m \u001b[0mfunc\u001b[0m\u001b[0;34m(\u001b[0m\u001b[0max\u001b[0m\u001b[0;34m,\u001b[0m \u001b[0;34m*\u001b[0m\u001b[0margs\u001b[0m\u001b[0;34m,\u001b[0m \u001b[0;34m**\u001b[0m\u001b[0mkwargs\u001b[0m\u001b[0;34m)\u001b[0m\u001b[0;34m\u001b[0m\u001b[0;34m\u001b[0m\u001b[0m\n\u001b[0m\u001b[1;32m   1811\u001b[0m \u001b[0;34m\u001b[0m\u001b[0m\n\u001b[1;32m   1812\u001b[0m         inner.__doc__ = _add_data_doc(inner.__doc__,\n",
      "\u001b[0;32m~/.pyenv/versions/pytorch/lib/python3.7/site-packages/matplotlib/axes/_axes.py\u001b[0m in \u001b[0;36mimshow\u001b[0;34m(self, X, cmap, norm, aspect, interpolation, alpha, vmin, vmax, origin, extent, shape, filternorm, filterrad, imlim, resample, url, **kwargs)\u001b[0m\n\u001b[1;32m   5492\u001b[0m                               resample=resample, **kwargs)\n\u001b[1;32m   5493\u001b[0m \u001b[0;34m\u001b[0m\u001b[0m\n\u001b[0;32m-> 5494\u001b[0;31m         \u001b[0mim\u001b[0m\u001b[0;34m.\u001b[0m\u001b[0mset_data\u001b[0m\u001b[0;34m(\u001b[0m\u001b[0mX\u001b[0m\u001b[0;34m)\u001b[0m\u001b[0;34m\u001b[0m\u001b[0;34m\u001b[0m\u001b[0m\n\u001b[0m\u001b[1;32m   5495\u001b[0m         \u001b[0mim\u001b[0m\u001b[0;34m.\u001b[0m\u001b[0mset_alpha\u001b[0m\u001b[0;34m(\u001b[0m\u001b[0malpha\u001b[0m\u001b[0;34m)\u001b[0m\u001b[0;34m\u001b[0m\u001b[0;34m\u001b[0m\u001b[0m\n\u001b[1;32m   5496\u001b[0m         \u001b[0;32mif\u001b[0m \u001b[0mim\u001b[0m\u001b[0;34m.\u001b[0m\u001b[0mget_clip_path\u001b[0m\u001b[0;34m(\u001b[0m\u001b[0;34m)\u001b[0m \u001b[0;32mis\u001b[0m \u001b[0;32mNone\u001b[0m\u001b[0;34m:\u001b[0m\u001b[0;34m\u001b[0m\u001b[0;34m\u001b[0m\u001b[0m\n",
      "\u001b[0;32m~/.pyenv/versions/pytorch/lib/python3.7/site-packages/matplotlib/image.py\u001b[0m in \u001b[0;36mset_data\u001b[0;34m(self, A)\u001b[0m\n\u001b[1;32m    644\u001b[0m             \u001b[0;31m# making reliable interpretation impossible.\u001b[0m\u001b[0;34m\u001b[0m\u001b[0;34m\u001b[0m\u001b[0;34m\u001b[0m\u001b[0m\n\u001b[1;32m    645\u001b[0m             \u001b[0mhigh\u001b[0m \u001b[0;34m=\u001b[0m \u001b[0;36m255\u001b[0m \u001b[0;32mif\u001b[0m \u001b[0mnp\u001b[0m\u001b[0;34m.\u001b[0m\u001b[0missubdtype\u001b[0m\u001b[0;34m(\u001b[0m\u001b[0mself\u001b[0m\u001b[0;34m.\u001b[0m\u001b[0m_A\u001b[0m\u001b[0;34m.\u001b[0m\u001b[0mdtype\u001b[0m\u001b[0;34m,\u001b[0m \u001b[0mnp\u001b[0m\u001b[0;34m.\u001b[0m\u001b[0minteger\u001b[0m\u001b[0;34m)\u001b[0m \u001b[0;32melse\u001b[0m \u001b[0;36m1\u001b[0m\u001b[0;34m\u001b[0m\u001b[0;34m\u001b[0m\u001b[0m\n\u001b[0;32m--> 646\u001b[0;31m             \u001b[0;32mif\u001b[0m \u001b[0mself\u001b[0m\u001b[0;34m.\u001b[0m\u001b[0m_A\u001b[0m\u001b[0;34m.\u001b[0m\u001b[0mmin\u001b[0m\u001b[0;34m(\u001b[0m\u001b[0;34m)\u001b[0m \u001b[0;34m<\u001b[0m \u001b[0;36m0\u001b[0m \u001b[0;32mor\u001b[0m \u001b[0mhigh\u001b[0m \u001b[0;34m<\u001b[0m \u001b[0mself\u001b[0m\u001b[0;34m.\u001b[0m\u001b[0m_A\u001b[0m\u001b[0;34m.\u001b[0m\u001b[0mmax\u001b[0m\u001b[0;34m(\u001b[0m\u001b[0;34m)\u001b[0m\u001b[0;34m:\u001b[0m\u001b[0;34m\u001b[0m\u001b[0;34m\u001b[0m\u001b[0m\n\u001b[0m\u001b[1;32m    647\u001b[0m                 _log.warning(\n\u001b[1;32m    648\u001b[0m                     \u001b[0;34m'Clipping input data to the valid range for imshow with '\u001b[0m\u001b[0;34m\u001b[0m\u001b[0;34m\u001b[0m\u001b[0m\n",
      "\u001b[0;32m~/.pyenv/versions/pytorch/lib/python3.7/site-packages/numpy/ma/core.py\u001b[0m in \u001b[0;36mmin\u001b[0;34m(self, axis, out, fill_value, keepdims)\u001b[0m\n\u001b[1;32m   5600\u001b[0m         \u001b[0;32mif\u001b[0m \u001b[0mout\u001b[0m \u001b[0;32mis\u001b[0m \u001b[0;32mNone\u001b[0m\u001b[0;34m:\u001b[0m\u001b[0;34m\u001b[0m\u001b[0;34m\u001b[0m\u001b[0m\n\u001b[1;32m   5601\u001b[0m             result = self.filled(fill_value).min(\n\u001b[0;32m-> 5602\u001b[0;31m                 axis=axis, out=out, **kwargs).view(type(self))\n\u001b[0m\u001b[1;32m   5603\u001b[0m             \u001b[0;32mif\u001b[0m \u001b[0mresult\u001b[0m\u001b[0;34m.\u001b[0m\u001b[0mndim\u001b[0m\u001b[0;34m:\u001b[0m\u001b[0;34m\u001b[0m\u001b[0;34m\u001b[0m\u001b[0m\n\u001b[1;32m   5604\u001b[0m                 \u001b[0;31m# Set the mask\u001b[0m\u001b[0;34m\u001b[0m\u001b[0;34m\u001b[0m\u001b[0;34m\u001b[0m\u001b[0m\n",
      "\u001b[0;32m~/.pyenv/versions/pytorch/lib/python3.7/site-packages/numpy/core/_methods.py\u001b[0m in \u001b[0;36m_amin\u001b[0;34m(a, axis, out, keepdims, initial)\u001b[0m\n\u001b[1;32m     30\u001b[0m def _amin(a, axis=None, out=None, keepdims=False,\n\u001b[1;32m     31\u001b[0m           initial=_NoValue):\n\u001b[0;32m---> 32\u001b[0;31m     \u001b[0;32mreturn\u001b[0m \u001b[0mumr_minimum\u001b[0m\u001b[0;34m(\u001b[0m\u001b[0ma\u001b[0m\u001b[0;34m,\u001b[0m \u001b[0maxis\u001b[0m\u001b[0;34m,\u001b[0m \u001b[0;32mNone\u001b[0m\u001b[0;34m,\u001b[0m \u001b[0mout\u001b[0m\u001b[0;34m,\u001b[0m \u001b[0mkeepdims\u001b[0m\u001b[0;34m,\u001b[0m \u001b[0minitial\u001b[0m\u001b[0;34m)\u001b[0m\u001b[0;34m\u001b[0m\u001b[0;34m\u001b[0m\u001b[0m\n\u001b[0m\u001b[1;32m     33\u001b[0m \u001b[0;34m\u001b[0m\u001b[0m\n\u001b[1;32m     34\u001b[0m def _sum(a, axis=None, dtype=None, out=None, keepdims=False,\n",
      "\u001b[0;31mKeyboardInterrupt\u001b[0m: "
     ]
    },
    {
     "data": {
      "image/png": "[encoded data removed]",
      "text/plain": [
       "<Figure size 432x288 with 1 Axes>"
      ]
     },
     "metadata": {
      "needs_background": "light"
     },
     "output_type": "display_data"
    }
   ],
   "source": [
    "for i in initial_pop:\n",
    "    show_img(i.img)\n",
    "    time.sleep(0.3)\n",
    "    "
   ]
  },
  {
   "cell_type": "code",
   "execution_count": null,
   "metadata": {},
   "outputs": [
    {
     "name": "stdout",
     "output_type": "stream",
     "text": [
      "Generation Level : 1\n"
     ]
    },
    {
     "name": "stderr",
     "output_type": "stream",
     "text": [
      "  0%|          | 0/50 [00:00<?, ?it/s]"
     ]
    },
    {
     "name": "stdout",
     "output_type": "stream",
     "text": [
      "Start Evolution Generation level 1\n"
     ]
    },
    {
     "name": "stderr",
     "output_type": "stream",
     "text": [
      "  2%|▏         | 1/50 [11:57<9:45:58, 717.52s/it]"
     ]
    },
    {
     "name": "stdout",
     "output_type": "stream",
     "text": [
      "mean fitness : 154164577.91\n",
      "Start Evolution Generation level 2\n"
     ]
    },
    {
     "name": "stderr",
     "output_type": "stream",
     "text": [
      "  4%|▍         | 2/50 [24:00<9:35:13, 719.03s/it]"
     ]
    },
    {
     "name": "stdout",
     "output_type": "stream",
     "text": [
      "mean fitness : 154159844.95\n",
      "Start Evolution Generation level 3\n"
     ]
    },
    {
     "name": "stderr",
     "output_type": "stream",
     "text": [
      "  6%|▌         | 3/50 [36:00<9:23:35, 719.47s/it]"
     ]
    },
    {
     "name": "stdout",
     "output_type": "stream",
     "text": [
      "mean fitness : 154144637.81\n",
      "Start Evolution Generation level 4\n"
     ]
    }
   ],
   "source": [
    "# first generation\n",
    "\n",
    "i = 0\n",
    "initial_population = [chromoSome() for _ in range(POPULATION)]\n",
    "gen = Generation(initial_population)\n",
    "print(gen)\n",
    "\n",
    "\n",
    "mean_fitness_list = list()\n",
    "for num in tqdm(range(MAX_GENERATIONS)):\n",
    "    gen = gen.evolution()\n",
    "    mean_fitness = gen.mean_fitness\n",
    "    print(\"mean fitness : {}\".format(mean_fitness))\n",
    "    mean_fitness_list.append(mean_fitness)\n",
    "\n",
    "best_chromosome = gen.get_best\n",
    "\n",
    "save_pickle(mean_fitness_list, \"mean_fitness_list\")\n",
    "save_pickle(best_chromosome, \"best_chromosome\")"
   ]
  },
  {
   "cell_type": "code",
   "execution_count": 2,
   "metadata": {},
   "outputs": [],
   "source": [
    "def load_pickle(filepath):\n",
    "    with open(\"{}.pickle\".format(filepath), 'rb') as t:\n",
    "        data = pickle.load(t)\n",
    "    print(\"PICKLE LOAD DONE\")\n",
    "    return data\n"
   ]
  },
  {
   "cell_type": "code",
   "execution_count": 24,
   "metadata": {},
   "outputs": [
    {
     "name": "stdout",
     "output_type": "stream",
     "text": [
      "PICKLE LOAD DONE\n",
      "PICKLE LOAD DONE\n"
     ]
    }
   ],
   "source": [
    "best_chromosome = load_pickle(\"best_chromosome\")\n",
    "mean_fit = load_pickle(\"mean_fitness_list\")"
   ]
  },
  {
   "cell_type": "code",
   "execution_count": 25,
   "metadata": {},
   "outputs": [
    {
     "data": {
      "image/png": "[encoded data removed]",
      "text/plain": [
       "<Figure size 432x288 with 1 Axes>"
      ]
     },
     "metadata": {
      "needs_background": "light"
     },
     "output_type": "display_data"
    }
   ],
   "source": [
    "plt.plot(mean_fit)\n",
    "plt.show()"
   ]
  },
  {
   "cell_type": "code",
   "execution_count": 14,
   "metadata": {},
   "outputs": [
    {
     "data": {
      "text/plain": [
       "(768, 768, 3)"
      ]
     },
     "execution_count": 14,
     "metadata": {},
     "output_type": "execute_result"
    }
   ],
   "source": [
    "jpg_img_arr.shape"
   ]
  },
  {
   "cell_type": "code",
   "execution_count": 15,
   "metadata": {},
   "outputs": [],
   "source": [
    "resized = jpg_IMG.resize((96,96))"
   ]
  },
  {
   "cell_type": "code",
   "execution_count": 17,
   "metadata": {},
   "outputs": [],
   "source": [
    "resized.save('resized.jpg')"
   ]
  },
  {
   "cell_type": "markdown",
   "metadata": {},
   "source": [
    "### 중간확인"
   ]
  },
  {
   "cell_type": "code",
   "execution_count": 42,
   "metadata": {},
   "outputs": [
    {
     "name": "stdout",
     "output_type": "stream",
     "text": [
      "PICKLE LOAD DONE\n"
     ]
    },
    {
     "data": {
      "image/png": "[encoded data removed]",
      "text/plain": [
       "<PIL.Image.Image image mode=RGB size=96x96 at 0x7F21C3DA9C88>"
      ]
     },
     "execution_count": 42,
     "metadata": {},
     "output_type": "execute_result"
    }
   ],
   "source": [
    "test_arr = mpimg.imread('resized.jpg')\n",
    "test_img = Image.open('resized.jpg')\n",
    "n_best = load_pickle(\"17400_best\")\n",
    "#best_chromosome\n",
    "reshapen = np.reshape(n_best.chromo, test_arr.shape)\n",
    "reshapen_img = Image.fromarray(reshapen, 'RGB')\n",
    "reshapen_img"
   ]
  },
  {
   "cell_type": "code",
   "execution_count": 37,
   "metadata": {},
   "outputs": [
    {
     "data": {
      "image/png": "[encoded data removed]",
      "text/plain": [
       "<PIL.Image.Image image mode=RGB size=96x96 at 0x7F21C3DC7518>"
      ]
     },
     "execution_count": 37,
     "metadata": {},
     "output_type": "execute_result"
    }
   ],
   "source": [
    "flatten = test_arr.flatten()\n",
    "re = np.reshape(flatten, test_arr.shape)\n",
    "re_img = Image.fromarray(re, 'RGB')\n",
    "re_img"
   ]
  },
  {
   "cell_type": "code",
   "execution_count": 38,
   "metadata": {},
   "outputs": [
    {
     "data": {
      "image/png": "[encoded data removed]",
      "text/plain": [
       "<PIL.JpegImagePlugin.JpegImageFile image mode=RGB size=96x96 at 0x7F21C3E07A20>"
      ]
     },
     "execution_count": 38,
     "metadata": {},
     "output_type": "execute_result"
    }
   ],
   "source": [
    "test_img"
   ]
  },
  {
   "cell_type": "code",
   "execution_count": null,
   "metadata": {},
   "outputs": [],
   "source": [
    "    import numpy as np\n",
    "    import cv2\n",
    "    import argparse\n",
    "    from random import shuffle\n",
    "    import matplotlib.pyplot as plt\n",
    "\n",
    "\n",
    "    class Individual:\n",
    "\n",
    "        # shape = rectangular, circle, polygon, mixed.\n",
    "        # img_size = 2-dimensional (height, width)\n",
    "        def __init__(self, img_size, nbr_of_shapes, shape='circle', _res=10):\n",
    "            self.shape_ \t\t   = shape\n",
    "            self.img_size_ \t\t   = img_size\n",
    "            self.nbr_of_shapes_    = nbr_of_shapes\n",
    "            self.shape_func_dict_  = {'line' : self.assign_line, 'circle' : self.assign_circle, 'rectangular' : self.assign_rect, \n",
    "                                    'polygon' : self.assign_poly, 'dot' : self.assign_dot, 'mixed' : self.assign_mixed}\n",
    "            self.nbr_of_vertices_  = 8\n",
    "            self.shape_funct_list_ = ['dot', 'line', 'circle', 'rectangular', 'polygon']\n",
    "            self.fitness_ \t\t   = 0\n",
    "            self.percent_\t\t   = 0\n",
    "            self.image_            = None\n",
    "            self.shape_list_       = []\n",
    "            self.res_\t\t\t   = _res\n",
    "\n",
    "        def create_random_image(self):\n",
    "            self.image_ = np.zeros((self.img_size_[0], self.img_size_[1], 3), np.uint8)\n",
    "\n",
    "            for i in range(self.nbr_of_shapes_):\n",
    "                self.shape_func_dict_[self.shape_]()\n",
    "\n",
    "        def assign_mixed(self):\n",
    "            i = np.random.randint(0, 5)\n",
    "            self.shape_func_dict_[self.shape_funct_list_[i]]()\n",
    "\n",
    "        def assign_dot(self):\n",
    "            for i in range(5):\n",
    "                center_x = np.random.randint(0, self.img_size_[1])\n",
    "                center_y = np.random.randint(0, self.img_size_[0])\n",
    "                radius   = np.random.randint(0, int(self.img_size_[0] / 100.))\n",
    "                opacity  = np.random.rand(1)[0]\n",
    "                color    = Individual.get_bgr_color()\n",
    "\n",
    "                overlay  = self.image_.copy()\n",
    "                cv2.circle(overlay, (center_x, center_y), radius, color, -1)\n",
    "\n",
    "                cv2.addWeighted(overlay, opacity, self.image_, 1 - opacity, 0, self.image_)\n",
    "\n",
    "        def assign_line(self):\n",
    "            min_x     = np.random.randint(0, self.img_size_[1])\n",
    "            max_x     = min_x + np.random.randint(-1, 2) * np.random.randint(5, int(self.img_size_[1] / 5.))\n",
    "            min_y     = np.random.randint(0, self.img_size_[0])\n",
    "            max_y     = min_y + np.random.randint(-1, 2) * np.random.randint(5, int(self.img_size_[0] / 5.))\n",
    "            opacity   = np.random.rand(1)[0]\n",
    "            thickness = np.random.randint(1, 5)\n",
    "            color     = Individual.get_bgr_color()\n",
    "\n",
    "            overlay  = self.image_.copy()\n",
    "            cv2.line(overlay, (min_x, min_y), (max_x, max_y), color, thickness)\n",
    "\n",
    "            cv2.addWeighted(overlay, opacity, self.image_, 1 - opacity, 0, self.image_)\n",
    "\n",
    "        def assign_circle(self):\n",
    "            center_x = np.random.randint(0, self.img_size_[1])\n",
    "            center_y = np.random.randint(0, self.img_size_[0])\n",
    "            radius   = np.random.randint(0, int(self.img_size_[0] / (1.1*self.res_)))\n",
    "            opacity  = np.random.rand(1)[0]\n",
    "            color    = Individual.get_bgr_color()\n",
    "\n",
    "            overlay  = self.image_.copy()\n",
    "            cv2.circle(overlay, (center_x, center_y), radius, color, -1)\n",
    "\n",
    "            cv2.addWeighted(overlay, opacity, self.image_, 1 - opacity, 0, self.image_)\n",
    "\n",
    "        def assign_rect(self):\n",
    "            min_x = np.random.randint(0, self.img_size_[1])\n",
    "            max_x = min_x + np.random.randint(5, int(self.img_size_[1] / self.res_))\n",
    "            min_y = np.random.randint(0, self.img_size_[0])\n",
    "            max_y = min_y + np.random.randint(5, int(self.img_size_[0] / self.res_))\n",
    "            opacity  = np.random.rand(1)[0]\n",
    "            color    = Individual.get_bgr_color()\n",
    "\n",
    "\n",
    "\n",
    "            overlay  = self.image_.copy()\n",
    "            cv2.rectangle(overlay, (min_x, min_y), (max_x, max_y), color, -1)\n",
    "\n",
    "            cv2.addWeighted(overlay, opacity, self.image_, 1 - opacity, 0, self.image_)\n",
    "\n",
    "        def assign_poly(self):\n",
    "            pts = []\n",
    "            point = [np.random.randint(0, self.img_size_[1]), \n",
    "                        np.random.randint(0, self.img_size_[0])]\n",
    "            pts.append(point)\n",
    "\n",
    "            for i in range(self.nbr_of_vertices_-1):\n",
    "                new_point = [point[0] + np.random.randint(-1, 2) * np.random.randint(0, int(self.img_size_[1] / self.res_)), \n",
    "                             point[1] + np.random.randint(-1, 2) * np.random.randint(0, int(self.img_size_[0] / self.res_))]\n",
    "                pts.append(new_point)\n",
    "\n",
    "\n",
    "            pts \t = np.array(pts)\n",
    "            pts \t = pts.reshape((-1, 1, 2))\n",
    "            opacity  = np.random.rand(1)[0]\n",
    "            color    = Individual.get_bgr_color()\n",
    "\n",
    "\n",
    "            overlay  = self.image_.copy()\n",
    "\n",
    "            cv2.fillPoly(overlay, [pts], color, 8)\n",
    "            cv2.addWeighted(overlay, opacity, self.image_, 1 - opacity, 0 ,self.image_)\n",
    "\n",
    "        def show_image(self):\n",
    "            cv2.imshow('image', self.image_)\n",
    "            cv2.waitKey(0)\n",
    "            cv2.destroyAllWindows()\n",
    "\n",
    "\n",
    "        def draw_circle(self, circle):\n",
    "            overlay  = self.image_.copy()\n",
    "            cv2.circle(overlay, (circle.center_x_, circle.center_y_), circle.radius_, circle.color_, -1)\n",
    "\n",
    "            cv2.addWeighted(overlay, circle.opacity_, self.image_, 1 - circle.opacity_, 0, self.image_)\n",
    "\n",
    "        def draw_rect(self, rect):\n",
    "            overlay  = self.image_.copy()\n",
    "            cv2.rectangle(overlay, (rect.min_x_, rect.min_y_), (rect.max_x_, rect.max_y_), rect.color_, -1)\n",
    "\n",
    "            cv2.addWeighted(overlay, rect.opacity_, self.image_, 1 - rect.opacity_, 0, self.image_)\n",
    "\n",
    "        def draw_poly(self, poly):\n",
    "            overlay  = self.image_.copy()\n",
    "\n",
    "            cv2.fillPoly(overlay, [poly.pts_], poly.color_, 8)\n",
    "            cv2.addWeighted(overlay, poly.opacity_, self.image_, 1 - poly.opacity_, 0 ,self.image_)\n",
    "\n",
    "        def get_bgr_color():\n",
    "            blue  = np.random.randint(0, 255)\n",
    "            green = np.random.randint(0, 255)\n",
    "            red   = np.random.randint(0, 255)\n",
    "            return (blue, green, red)\n",
    "\n",
    "    class Genetic:\n",
    "\n",
    "        '''\n",
    "        pop_size: # of individuals in the population\n",
    "        ind_config: individual configuration. 'shape', 'nbr_of_shapes'\n",
    "        '''\n",
    "        def __init__(self, _pop_size, _image, _ind_config, _mut_rate=3 ):\n",
    "            self.pop_size_   = _pop_size\n",
    "            self.image_\t     = _image\n",
    "            self.ind_config_ = _ind_config\n",
    "            self.population_ = []\n",
    "            self.mut_rate_\t = _mut_rate\n",
    "            self.create_population()\n",
    "\n",
    "\n",
    "        def create_population(self):\n",
    "            for i in range(self.pop_size_):\n",
    "                ind = Individual(self.image_.shape[:-1], self.ind_config_['nbr_of_shapes'],\n",
    "                                    shape=self.ind_config_['shape'], _res=self.ind_config_['resolution'])\n",
    "                ind.create_random_image()\n",
    "                self.population_.append(ind)\n",
    "\n",
    "\n",
    "        def genetic(self):\n",
    "            for i in range(250000):\n",
    "                self.assign_fitnesses()\n",
    "                self.assign_percentages()\n",
    "                print(\"Step #%d, Best Fitness: %.4f\" % (i+1, self.best_ind_.fitness_), end=\"\\r\")\n",
    "                if i % 50 == 0:\n",
    "                    self.visualize_best_ind(i)\n",
    "                new_pop = []\n",
    "                new_pop.append(self.best_ind_)\n",
    "                new_pop.append(self.second_ind_)\n",
    "                for j in range(self.pop_size_ - 2):\n",
    "                    x \t  = self.random_selection()\n",
    "                    y     = self.random_selection()\n",
    "                    child = self.reproduce(x, y)\n",
    "                    if (np.random.randint(10) < self.mut_rate_):\n",
    "                        self.mutate(child, i)\n",
    "                    new_pop.append(child)\n",
    "                self.population_ = None\n",
    "                self.population_ = new_pop\n",
    "                if i % 1000 == 0:\n",
    "                    cv2.imwrite('output/Aoutput_final_result.jpg' , self.best_ind_.image_)\n",
    "\n",
    "\n",
    "        def random_selection(self):\n",
    "            if len(self.pop_percentage_pool_) == 0:\n",
    "                print(\"Pop percentage pool size is 0\")\n",
    "                return self.population_[np.random.randint(0, self.pop_size_ - 1)]\n",
    "            return self.pop_percentage_pool_[np.random.randint(0, len(self.pop_percentage_pool_) - 1)]\n",
    "\n",
    "\n",
    "        def reproduce(self, ind1, ind2):\n",
    "            new_child = Individual(self.image_.shape[:-1], self.ind_config_['nbr_of_shapes'],\n",
    "                                      shape=self.ind_config_['shape'], _res=self.ind_config_['resolution'])\n",
    "\n",
    "            # loc = np.random.randint(0, len(ind1.shape_list_) - 1)\n",
    "            # shape_list = []\n",
    "            # for i in range(loc):\n",
    "            # \tshape_list.append(ind1.shape_list_[i])\n",
    "\n",
    "            # for i in range(loc, len(ind2.shape_list_) - 1):\n",
    "            # \tshape_list.append(ind2.shape_list_[i])\n",
    "\n",
    "\n",
    "            # new_child.shape_list_ = shape_list\n",
    "\n",
    "            # new_child.draw_from_shape_list()\n",
    "\n",
    "            ind1_weight = np.random.rand(1)[0]\n",
    "            new_image = np.zeros((self.image_.shape), dtype=np.uint8)\n",
    "            cv2.addWeighted(ind1.image_, ind1_weight, ind2.image_, 1 - ind1_weight, 0, new_image)\n",
    "            new_child.image_ = new_image\n",
    "            return new_child\n",
    "\n",
    "        def mutate(self, ind, step):\n",
    "            # ind.assign_poly()\n",
    "            for i in range(np.random.randint(1, 3)):\n",
    "                ind.shape_func_dict_[self.ind_config_['shape']]()\n",
    "            # for i in range(5):\n",
    "            # \tloc = np.random.randint(0, len(ind.shape_list_) - 1)\n",
    "            # \tind.shape_list_[loc].opacity_ = np.random.randn(1)[0]\n",
    "            # \tind.shape_list_[loc].color    = Individual.get_bgr_color()\n",
    "            # \tind.draw_from_shape_list()\n",
    "\n",
    "        # Whilst finding fitnesses, the individual that has the best fitness is also being searched\n",
    "        # for visualization purposes\n",
    "        def assign_fitnesses(self):\n",
    "            self.best_ind_   = self.population_[0]\n",
    "            self.second_ind_ = self.population_[1]\n",
    "            for index, individual in enumerate(self.population_):\n",
    "                distance = self.get_distance(index);\n",
    "                individual.fitness_ = ( 1. / distance) \n",
    "                # print(\"Distance: {0:4f}, Fitnes:: {1:5f}\".format(distance, individual.fitness_))\n",
    "                if individual.fitness_ > self.best_ind_.fitness_:\n",
    "                    self.best_ind_ = individual\n",
    "                elif individual.fitness_ > self.second_ind_.fitness_:\n",
    "                    self.second_ind_ = individual\n",
    "\n",
    "        def get_distance(self, index, error='mse'):\n",
    "            return (np.linalg.norm(self.image_.astype('float') - self.population_[index].image_.astype('float'))) / (self.image_.shape[0] * self.image_.shape[1])\n",
    "            # if error is 'mae':\n",
    "            # \terror = np.sum(np.abs(self.image_.astype('float') \n",
    "            # \t\t\t\t\t- self.population_[index].image_.astype('float')))\n",
    "            # \terror /= float(self.image_.shape[0] * self.image_.shape[1])\n",
    "            # elif error is 'mse':\n",
    "            # \terror = np.sum( (self.image_.astype('float')\n",
    "            # \t\t\t\t\t - self.population_[index].image_.astype('float')) ** 2)\n",
    "            # \terror /= float(self.image_.shape[0] * self.image_.shape[1])\n",
    "\n",
    "            # return error\n",
    "\n",
    "        def assign_percentages(self):\n",
    "            total = 0\n",
    "            for individual in self.population_:\n",
    "                total += individual.fitness_\n",
    "\n",
    "            # print(\"Total fitness: %d\" % total)\n",
    "\n",
    "            for individual in self.population_:\n",
    "                if individual.fitness_ is not 0 and total is not 0:\n",
    "                    individual.percent_ = int(1 + individual.fitness_ * 100 / total)\n",
    "                else:\n",
    "                    individual.percent_ = 1\n",
    "\n",
    "            self.create_percentage_pool()\n",
    "\n",
    "\n",
    "        def create_percentage_pool(self):\n",
    "            self.pop_percentage_pool_ = []\n",
    "            for individual in self.population_:\n",
    "                for i in range(individual.percent_):\n",
    "                    self.pop_percentage_pool_.append(individual)\n",
    "            shuffle(self.pop_percentage_pool_)\n",
    "\n",
    "        def visualize_best_ind(self, step):\n",
    "\n",
    "            con = np.concatenate((self.image_, self.best_ind_.image_), axis=1)\n",
    "            cv2.imwrite(\"output/Step_\" + str(step) + \"_Fitness_\" + str(self.best_ind_.fitness_) + \".jpg\", con)\n",
    "            con = None\n",
    "\n",
    "            # dpi = 96.\n",
    "            # margin = 0.02\n",
    "            # h, w, d = self.image_.shape\n",
    "            # figsize = (1.5 + margin)  * w / dpi, (1.5 + margin) * h / dpi\n",
    "            # left = margin/dpi/figsize[0]\n",
    "            # bottom = margin/dpi/figsize[1]\n",
    "\n",
    "            # fig = plt.figure(figsize=figsize, dpi=dpi)\n",
    "            # fig.subplots_adjust(left=left, bottom=bottom, right=1.-left, top=1.-bottom)\n",
    "\n",
    "            # ax = plt.subplot(121)\n",
    "            # ax.set_yticklabels([])\n",
    "            # ax.set_xticklabels([])\n",
    "            # plt.title(\"Original Image\")\n",
    "            # plt.imshow(self.image_, interpolation='nearest', aspect='auto')\n",
    "            # ax = plt.subplot(122)\n",
    "            # ax.set_yticklabels([])\n",
    "            # ax.set_xticklabels([])\n",
    "            # plt.title(\"Drawing Step: #\" + str(step) + \", Shape: \" + self.ind_config_['shape'])\n",
    "            # plt.imshow(self.best_ind_.image_, interpolation='nearest', aspect='auto')\n",
    "            # # plt.show()\n",
    "            # plt.tight_layout()\n",
    "            # plt.savefig(\"output/Step_\" + str(step) + \"_Fitness_\" + str(self.best_ind_.fitness_) + \".png\")\n",
    "            # plt.close('all')\n",
    "            # plt.clf()\n",
    "\n",
    "    if __name__ == '__main__':\n",
    "\n",
    "        ap = argparse.ArgumentParser()\n",
    "        ap.add_argument(\"-ns\", \"--nbr_of_shapes\", required=False, type=int)\n",
    "        ap.add_argument(\"-is\", \"--img_size\", required=False, type=int)\n",
    "        ap.add_argument(\"-ip\", \"--img_path\", required=True, type=str)\n",
    "        ap.add_argument(\"-ps\", \"--pop_size\", required=False, type=int)\n",
    "        ap.add_argument(\"-st\", \"--shape_type\", required=False, type=str) # circle, rectangular, polygon, mixed\n",
    "\n",
    "        shape = \"mixed\"\n",
    "        pop_size = 100\n",
    "\n",
    "        args = vars(ap.parse_args())\n",
    "\n",
    "        if args[\"pop_size\"] != None:\n",
    "            pop_size = args[\"pop_size\"]\n",
    "\n",
    "        if args['img_path'] != None:\n",
    "            img_path = args['img_path']\n",
    "\n",
    "        if args['shape_type'] != None:\n",
    "            shape = args['shape_type']\n",
    "\n",
    "        print(\"Using %s\" % shape)\n",
    "\n",
    "        image = cv2.imread(img_path)\n",
    "        # For matplotlib \n",
    "        # image = cv2.cvtColor(image, cv2.COLOR_BGR2RGB)\n",
    "\n",
    "        genetic = Genetic(pop_size, image, {'shape':shape, 'nbr_of_shapes': 300, 'resolution':25.})\n",
    "        genetic.genetic()"
   ]
  }
 ],
 "metadata": {
  "kernelspec": {
   "display_name": "pytorch",
   "language": "python",
   "name": "pytorch"
  },
  "language_info": {
   "codemirror_mode": {
    "name": "ipython",
    "version": 3
   },
   "file_extension": ".py",
   "mimetype": "text/x-python",
   "name": "python",
   "nbconvert_exporter": "python",
   "pygments_lexer": "ipython3",
   "version": "3.7.2"
  }
 },
 "nbformat": 4,
 "nbformat_minor": 2
}
